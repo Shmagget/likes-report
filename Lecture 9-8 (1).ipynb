{
 "cells": [
  {
   "cell_type": "code",
   "execution_count": 2,
   "id": "b052fedb",
   "metadata": {},
   "outputs": [],
   "source": [
    "8import pandas as pd\n",
    "import json"
   ]
  },
  {
   "cell_type": "code",
   "execution_count": null,
   "id": "5d05c21a",
   "metadata": {},
   "outputs": [],
   "source": [
    "with open(r\"C:\\Users\\mwilo\\Downloads\\max.wilson2_20220915\\likes\\liked_posts.json\") as j: liked_posts = json.load(j)"
   ]
  },
  {
   "cell_type": "markdown",
   "id": "1ca80ef4",
   "metadata": {},
   "source": [
    "opening the file location of the data i downloaded"
   ]
  },
  {
   "cell_type": "code",
   "execution_count": null,
   "id": "d4f18821",
   "metadata": {},
   "outputs": [],
   "source": [
    "liked_posts"
   ]
  },
  {
   "cell_type": "markdown",
   "id": "e5f38b76",
   "metadata": {},
   "source": [
    "not calling on this because its way too long"
   ]
  },
  {
   "cell_type": "code",
   "execution_count": 49,
   "id": "e0a56f53",
   "metadata": {},
   "outputs": [],
   "source": [
    "test1 = pd.DataFrame(liked_posts)"
   ]
  },
  {
   "cell_type": "code",
   "execution_count": 85,
   "id": "c8af9727",
   "metadata": {},
   "outputs": [
    {
     "data": {
      "text/html": [
       "<div>\n",
       "<style scoped>\n",
       "    .dataframe tbody tr th:only-of-type {\n",
       "        vertical-align: middle;\n",
       "    }\n",
       "\n",
       "    .dataframe tbody tr th {\n",
       "        vertical-align: top;\n",
       "    }\n",
       "\n",
       "    .dataframe thead th {\n",
       "        text-align: right;\n",
       "    }\n",
       "</style>\n",
       "<table border=\"1\" class=\"dataframe\">\n",
       "  <thead>\n",
       "    <tr style=\"text-align: right;\">\n",
       "      <th></th>\n",
       "      <th>likes_media_likes</th>\n",
       "    </tr>\n",
       "  </thead>\n",
       "  <tbody>\n",
       "    <tr>\n",
       "      <th>0</th>\n",
       "      <td>{'title': 'kingvader', 'media_list_data': [], ...</td>\n",
       "    </tr>\n",
       "    <tr>\n",
       "      <th>1</th>\n",
       "      <td>{'title': 'cavs', 'media_list_data': [], 'stri...</td>\n",
       "    </tr>\n",
       "    <tr>\n",
       "      <th>2</th>\n",
       "      <td>{'title': 'playoverwatch', 'media_list_data': ...</td>\n",
       "    </tr>\n",
       "    <tr>\n",
       "      <th>3</th>\n",
       "      <td>{'title': 'daquan', 'media_list_data': [], 'st...</td>\n",
       "    </tr>\n",
       "    <tr>\n",
       "      <th>4</th>\n",
       "      <td>{'title': 'eminem', 'media_list_data': [], 'st...</td>\n",
       "    </tr>\n",
       "  </tbody>\n",
       "</table>\n",
       "</div>"
      ],
      "text/plain": [
       "                                   likes_media_likes\n",
       "0  {'title': 'kingvader', 'media_list_data': [], ...\n",
       "1  {'title': 'cavs', 'media_list_data': [], 'stri...\n",
       "2  {'title': 'playoverwatch', 'media_list_data': ...\n",
       "3  {'title': 'daquan', 'media_list_data': [], 'st...\n",
       "4  {'title': 'eminem', 'media_list_data': [], 'st..."
      ]
     },
     "execution_count": 85,
     "metadata": {},
     "output_type": "execute_result"
    }
   ],
   "source": [
    "test1.head()"
   ]
  },
  {
   "cell_type": "markdown",
   "id": "bff1d657",
   "metadata": {},
   "source": [
    "using a dataframe command brought in by pandas to show a list of liked posts."
   ]
  },
  {
   "cell_type": "code",
   "execution_count": 67,
   "id": "057d479a",
   "metadata": {},
   "outputs": [],
   "source": [
    "test2 = pd.DataFrame(liked_posts['likes_media_likes'])"
   ]
  },
  {
   "cell_type": "markdown",
   "id": "89541267",
   "metadata": {},
   "source": [
    "branching further into the data i downloaded "
   ]
  },
  {
   "cell_type": "code",
   "execution_count": 68,
   "id": "9d42e9e4",
   "metadata": {},
   "outputs": [
    {
     "data": {
      "text/html": [
       "<div>\n",
       "<style scoped>\n",
       "    .dataframe tbody tr th:only-of-type {\n",
       "        vertical-align: middle;\n",
       "    }\n",
       "\n",
       "    .dataframe tbody tr th {\n",
       "        vertical-align: top;\n",
       "    }\n",
       "\n",
       "    .dataframe thead th {\n",
       "        text-align: right;\n",
       "    }\n",
       "</style>\n",
       "<table border=\"1\" class=\"dataframe\">\n",
       "  <thead>\n",
       "    <tr style=\"text-align: right;\">\n",
       "      <th></th>\n",
       "      <th>title</th>\n",
       "      <th>media_list_data</th>\n",
       "      <th>string_list_data</th>\n",
       "    </tr>\n",
       "  </thead>\n",
       "  <tbody>\n",
       "    <tr>\n",
       "      <th>0</th>\n",
       "      <td>kingvader</td>\n",
       "      <td>[]</td>\n",
       "      <td>[{'href': 'https://www.instagram.com/p/BOX5hAK...</td>\n",
       "    </tr>\n",
       "    <tr>\n",
       "      <th>1</th>\n",
       "      <td>cavs</td>\n",
       "      <td>[]</td>\n",
       "      <td>[{'href': 'https://www.instagram.com/p/BOYkupO...</td>\n",
       "    </tr>\n",
       "    <tr>\n",
       "      <th>2</th>\n",
       "      <td>playoverwatch</td>\n",
       "      <td>[]</td>\n",
       "      <td>[{'href': 'https://www.instagram.com/p/BOX4t7H...</td>\n",
       "    </tr>\n",
       "    <tr>\n",
       "      <th>3</th>\n",
       "      <td>daquan</td>\n",
       "      <td>[]</td>\n",
       "      <td>[{'href': 'https://www.instagram.com/p/BOYDxON...</td>\n",
       "    </tr>\n",
       "    <tr>\n",
       "      <th>4</th>\n",
       "      <td>eminem</td>\n",
       "      <td>[]</td>\n",
       "      <td>[{'href': 'https://www.instagram.com/p/BOXuQXn...</td>\n",
       "    </tr>\n",
       "  </tbody>\n",
       "</table>\n",
       "</div>"
      ],
      "text/plain": [
       "           title media_list_data  \\\n",
       "0      kingvader              []   \n",
       "1           cavs              []   \n",
       "2  playoverwatch              []   \n",
       "3         daquan              []   \n",
       "4         eminem              []   \n",
       "\n",
       "                                    string_list_data  \n",
       "0  [{'href': 'https://www.instagram.com/p/BOX5hAK...  \n",
       "1  [{'href': 'https://www.instagram.com/p/BOYkupO...  \n",
       "2  [{'href': 'https://www.instagram.com/p/BOX4t7H...  \n",
       "3  [{'href': 'https://www.instagram.com/p/BOYDxON...  \n",
       "4  [{'href': 'https://www.instagram.com/p/BOXuQXn...  "
      ]
     },
     "execution_count": 68,
     "metadata": {},
     "output_type": "execute_result"
    }
   ],
   "source": [
    "test2.head()"
   ]
  },
  {
   "cell_type": "code",
   "execution_count": 87,
   "id": "5d699791",
   "metadata": {},
   "outputs": [
    {
     "data": {
      "text/plain": [
       "[{'href': 'https://www.instagram.com/p/BOYkupOhNiU/',\n",
       "  'value': 'ð\\x9f\\x91\\x8d',\n",
       "  'timestamp': 1482554862}]"
      ]
     },
     "execution_count": 87,
     "metadata": {},
     "output_type": "execute_result"
    }
   ],
   "source": [
    "test2['string_list_data'][1]"
   ]
  },
  {
   "cell_type": "markdown",
   "id": "d2043cb8",
   "metadata": {},
   "source": [
    "Answers to your questions\n",
    "- I believe that data analyzers at instagram scraped my farthest in date liked posts roughly and sent the information back, I looking through the likes there is no way that some of those accounts were my first likes.\n",
    "- So people can use this information to better target what a certain person likes, (thats what i think atleast) \n",
    "- showing a large ammount of data that otherwise would take forever to mark down yourself if you wanted to figure this out without the data. \n",
    "- Not knowing if this is truly accurate because of how much data is being given to the user, also it is sort of invasive. "
   ]
  }
 ],
 "metadata": {
  "kernelspec": {
   "display_name": "Python 3 (ipykernel)",
   "language": "python",
   "name": "python3"
  },
  "language_info": {
   "codemirror_mode": {
    "name": "ipython",
    "version": 3
   },
   "file_extension": ".py",
   "mimetype": "text/x-python",
   "name": "python",
   "nbconvert_exporter": "python",
   "pygments_lexer": "ipython3",
   "version": "3.9.12"
  }
 },
 "nbformat": 4,
 "nbformat_minor": 5
}
